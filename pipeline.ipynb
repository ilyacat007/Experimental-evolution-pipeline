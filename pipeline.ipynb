{
 "cells": [
  {
   "cell_type": "markdown",
   "metadata": {},
   "source": [
    "requirements:\n",
    "  bam2fastx\n",
    "  minimap2\n",
    "  cuteSV\n",
    "  sniffles\n",
    "  SURVIVOR\n",
    "  mummer\n",
    "  canu"
   ]
  },
  {
   "cell_type": "code",
   "execution_count": null,
   "metadata": {},
   "outputs": [],
   "source": [
    "import os\n",
    "\n",
    "data_folder = \"/home/jupyter-ilya/vbcf/FTEST\"\n",
    "samples_bam = \"m54067_210310_022505.demux.subreads.bam\"\n",
    "\n",
    "os.chdir(data_folder)\n",
    "\n",
    "!ls {data_folder}"
   ]
  },
  {
   "cell_type": "code",
   "execution_count": null,
   "metadata": {},
   "outputs": [],
   "source": [
    "path_to_minimap = \"/home/jupyter-ilya/minimap2/minimap2\" # /home/jupyter-ilya/minimap2/minimap2\n",
    "path_to_sniffles = \"/home/jupyter-ilya/Sniffles-master/bin/sniffles-core-1.0.12/sniffles\" # /home/jupyter-ilya/Sniffles-master/bin/sniffles-core-1.0.12/sniffles\n",
    "path_to_canu = \"/home/jupyter-ilya/canu/build/bin/canu\" # /home/jupyter-ilya/canu/build/bin/canu\n",
    "path_to_SURVIVOR = \"/home/jupyter-ilya/SURVIVOR/Debug/SURVIVOR\" # /home/jupyter-ilya/SURVIVOR/Debug/SURVIVOR\n",
    "\n",
    "SURVIVOR_settings = [1000, 2, 1, 1, 1, 30]\n",
    "\n",
    "labels_file = open(\"labels\", \"r\").read() # barcode_number ref.fasta annotation.gff\\n\n",
    "labels = {}\n",
    "annot = {}\n",
    "\n",
    "for i in labels_file.split(\"\\n\"):\n",
    "    if i != \"\":\n",
    "        pair = i.split(\" \")\n",
    "        labels[pair[0]] = pair[1]\n",
    "        annot[pair[0]] = pair[2]\n",
    "        "
   ]
  },
  {
   "cell_type": "code",
   "execution_count": null,
   "metadata": {},
   "outputs": [],
   "source": [
    "!sudo bam2fastq {samples_bam} -o Answ --split-barcodes # Split data samples by barcodes"
   ]
  },
  {
   "cell_type": "code",
   "execution_count": null,
   "metadata": {},
   "outputs": [],
   "source": [
    "for i in labels.keys(): # Unpacking .gz data\n",
    "    !gunzip Answ.{i}_{i}.fastq.gz"
   ]
  },
  {
   "cell_type": "code",
   "execution_count": null,
   "metadata": {},
   "outputs": [],
   "source": [
    "for i in labels.keys():\n",
    "    !{path_to_minimap} -ax map-pb {labels[i]} Answ.{i}_{i}.fastq > Answ.{i}_{i}.{labels[i]}.alignment.sam # Align by reference\n",
    "    !samtools view -b Answ.{i}_{i}.{labels[i]}.alignment.sam -o Answ.{i}_{i}.{labels[i]}.alignment.bam # Transform .sam to .bam\n",
    "    !samtools sort Answ.{i}_{i}.{labels[i]}.alignment.bam -o Answ.{i}_{i}.{labels[i]}.mapped.sorted.bam # Sort subreads\n",
    "    !samtools index Answ.{i}_{i}.{labels[i]}.mapped.sorted.bam # Index .bam\n",
    "    \n",
    "    "
   ]
  },
  {
   "cell_type": "code",
   "execution_count": null,
   "metadata": {},
   "outputs": [],
   "source": [
    "tools_done = []"
   ]
  },
  {
   "cell_type": "code",
   "execution_count": null,
   "metadata": {},
   "outputs": [],
   "source": [
    "# Sniffles part\n",
    "!mkdir Sniffles_res\n",
    "\n",
    "for i in labels.keys():\n",
    "    !samtools calmd -E -u Answ.{i}_{i}.{labels[i]}.mapped.sorted.bam {labels[i]} > Answ.{i}_{i}.{labels[i]}.mapped.sorted.md.bam # Generate md tag for files\n",
    "    !{path_to_sniffles} -m Answ.{i}_{i}.{labels[i]}.mapped.sorted.md.bam -v Sniffles_res/Answ.{i}_{i}.vcf\n",
    "\n",
    "tools_done.append(\"Sniffles_res\")"
   ]
  },
  {
   "cell_type": "code",
   "execution_count": null,
   "metadata": {},
   "outputs": [],
   "source": [
    "# CuteSV part\n",
    "!mkdir CuteSV_res\n",
    "!mkdir CuteSV_res/work\n",
    "\n",
    "for i in labels.keys():\n",
    "    !cuteSV Answ.{i}_{i}.{labels[i]}.mapped.sorted.bam {labels[i]} CuteSV_res/Answ.{i}_{i}.vcf CuteSV_res/work\n",
    "    \n",
    "tools_done.append(\"CuteSV_res\")"
   ]
  },
  {
   "cell_type": "code",
   "execution_count": null,
   "metadata": {},
   "outputs": [],
   "source": [
    "# SURVIVOR part\n",
    "vcfs = open(\"vcfs.txt\", \"w+\")\n",
    "\n",
    "for tool in tools_done:\n",
    "    for i in labels.keys():\n",
    "        vcfs.write(f\"{tool}/Answ.{i}_{i}.vcf\\n\")\n",
    "    \n",
    "vcfs.close()\n",
    "\n",
    "!{path_to_SURVIVOR} merge vcfs.txt {SURVIVOR_settings[0]} {SURVIVOR_settings[1]} {SURVIVOR_settings[2]} {SURVIVOR_settings[3]} {SURVIVOR_settings[4]} {SURVIVOR_settings[5]} Survivor_merged.vcf\n"
   ]
  },
  {
   "cell_type": "code",
   "execution_count": null,
   "metadata": {},
   "outputs": [],
   "source": [
    "import ipywidgets as widgets\n",
    "from ipywidgets import HBox, VBox\n",
    "\n",
    "# Mannualy filter mutations\n",
    "\n",
    "class MutationWidget:\n",
    "    def __init__(self, mutation, filepath):\n",
    "        self.filepath = filepath\n",
    "    \n",
    "        self.button_accept = widgets.Button(description='Accept',disabled=False,)\n",
    "        self.button_accept.on_click(self.accept_button_function)\n",
    "        self.button_reject = widgets.Button(description='Reject',disabled=False,)\n",
    "        self.button_reject.on_click(self.reject_button_function)\n",
    "        self.mutation_string = mutation\n",
    "        self.filepath = filepath\n",
    "\n",
    "        self.out = widgets.Output()\n",
    "        with self.out:\n",
    "            print(mutation[:50])\n",
    "    \n",
    "        self.widget = HBox([self.button_accept, self.button_reject, self.out], layout={'border': '1px solid black'})\n",
    "    \n",
    "    def accept_button_function(self, button):\n",
    "        # approved_list[index]=True\n",
    "        self.button_accept.disabled = True\n",
    "        self.button_reject.disabled = True\n",
    "        self.button_accept.description='Accepted'\n",
    "        self.button_accept.button_style='success'\n",
    "        \n",
    "        with open(self.filepath, \"a\") as f:\n",
    "            f.write(self.mutation_string)\n",
    "            #f.write('\\n')\n",
    "        \n",
    "        \n",
    "        # add_mutation_string to list of approved_mutations\n",
    "    def reject_button_function(self, button):\n",
    "        # approved_list[index]=False\n",
    "        self.button_accept.disabled = True\n",
    "        self.button_reject.disabled = True\n",
    "        self.button_reject.description='Rejected'\n",
    "        self.button_reject.button_style='danger'\n",
    "        \n",
    "\n",
    "file = open(\"Survivor_merged.vcf\", \"r\")\n",
    "widgets_list = []\n",
    "for i in file:\n",
    "    if i[:3] == \"NC_\":\n",
    "        widgets_list += [MutationWidget(i, filepath = 'approved.vcf').widget]\n",
    "\n",
    "VBox(widgets_list)"
   ]
  },
  {
   "cell_type": "code",
   "execution_count": null,
   "metadata": {},
   "outputs": [],
   "source": [
    "# SNP's part\n",
    "for i in labels.keys():\n",
    "    !{path_to_canu} -p result -d canu_assembly{i} genomeSize=4.8m -pacbio-raw Answ.{i}_{i}.fastq\n",
    "    !nucmer -mumreference -c 100 -p nucmer {labels[i]} canu_assembly{i}/result.contigs.fasta\n",
    "    !show-snps -C nucmer.delta > nucmer{i}.snps"
   ]
  },
  {
   "cell_type": "code",
   "execution_count": null,
   "metadata": {},
   "outputs": [],
   "source": [
    "# Annotate and extract mutated genes\n",
    "\n",
    "def annotate(mutfile, annotation, output_name):\n",
    "    snps = open(mutfile, \"r\").read().split(\"\\n\")\n",
    "\n",
    "    mutations = []\n",
    "    subst = [] \n",
    "    \n",
    "    for i in snps[5:]:\n",
    "        line = i.lstrip().split(\"  \")\n",
    "        \n",
    "        pos = line[0]\n",
    "       \n",
    "        mutations.append(int(pos))\n",
    "        subst.append(line[:3])\n",
    "\n",
    "#     for i in snps[5:]:\n",
    "#         pos = i.split(\"  \")[0]\n",
    "#         if pos != \"\":\n",
    "#             mutations.append(int(pos))\n",
    "#             subst.append(i.split(\"  \")[:3])\n",
    "#         elif len(i.split(\"  \"))>3:\n",
    "#             mutations.append(int(i.split(\"  \")[1]))\n",
    "#             subst.append(i.split(\"  \")[1:4])\n",
    "\n",
    "\n",
    "    anno_file = open(annotation) # .gff\n",
    "    annotation = anno_file.read().split('\\n')\n",
    "    \n",
    "    starts = []\n",
    "    badlines = []\n",
    "    for gene in annotation:\n",
    "        try:\n",
    "            starts.append(int(gene.split('\\t')[3]))\n",
    "        except:\n",
    "            badlines.append(gene)\n",
    "\n",
    "\n",
    "    for line in badlines:\n",
    "        annotation.remove(line)\n",
    "\n",
    "    res = open(output_name, \"w+\")\n",
    "    \n",
    "    mutations.sort(reverse=True)\n",
    "    for i in range(len(starts)-1, -1, -1):\n",
    "        while mutations[0] >= starts[i]:\n",
    "            res.write(annotation[i])\n",
    "            res.write('\\t')\n",
    "            res.write('\\t'.join(subst[0]))\n",
    "            res.write('\\n')\n",
    "            \n",
    "            del subst[0]\n",
    "            del mutations[0]\n",
    "            \n",
    "            if len(mutations) == 0:\n",
    "                break\n",
    "        \n",
    "        if len(mutations) == 0:\n",
    "                break\n",
    "            \n",
    "#     for i in range(len(mutations)):\n",
    "#         res.write(annotation[starts.index([x for x in starts if x <= mutations[i]][-1])])\n",
    "#         res.write('\\t')\n",
    "#         res.write('\\t'.join(subst[i]))\n",
    "#         res.write('\\n')\n",
    "\n",
    "    res.close()\n",
    "    \n",
    "\n",
    "for i in labels.keys():\n",
    "    annotate(f\"nucmer{i}.snps\", annot[i], f\"muttations{i}.tsv\")\n"
   ]
  }
 ],
 "metadata": {
  "kernelspec": {
   "display_name": "Python 3",
   "language": "python",
   "name": "python3"
  },
  "language_info": {
   "codemirror_mode": {
    "name": "ipython",
    "version": 3
   },
   "file_extension": ".py",
   "mimetype": "text/x-python",
   "name": "python",
   "nbconvert_exporter": "python",
   "pygments_lexer": "ipython3",
   "version": "3.8.5"
  }
 },
 "nbformat": 4,
 "nbformat_minor": 5
}
